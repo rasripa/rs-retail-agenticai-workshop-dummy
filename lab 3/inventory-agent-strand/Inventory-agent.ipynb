{
 "cells": [
  {
   "cell_type": "markdown",
   "metadata": {
    "collapsed": false,
    "jupyter": {
     "outputs_hidden": false
    },
    "pycharm": {
     "name": "#%% md\n"
    }
   },
   "source": [
    "# Inventory Agent with AWS services\n",
    "\n",
    "## Overview\n",
    "In this section, we will create an agent to check on the inventory of the products. The customer will be able to ask the agent for available clothes in the catalogue.\n",
    "\n",
    "## Agent Details\n",
    "<div style=\"float: left; margin-right: 20px;\">\n",
    "    \n",
    "|Feature             |Description                                        |\n",
    "|--------------------|---------------------------------------------------|\n",
    "|Native tools used   |aws_use                           |\n",
    "|Agent Structure     |Single agent architecture                          |\n",
    "|AWS services used   |Amazon DynamoDB\n",
    "\n",
    "</div>\n"
   ]
  },
  {
   "cell_type": "markdown",
   "metadata": {
    "collapsed": false,
    "jupyter": {
     "outputs_hidden": false
    },
    "pycharm": {
     "name": "#%% md\n"
    }
   },
   "source": [
    "## Architecture\n",
    "\n",
    "<div style=\"text-align:center\">\n",
    "    <img src=\"Inventory-agents.png\" width=\"85%\" />\n",
    "</div>\n",
    "\n",
    "## Key Features\n",
    "* **Single agent architecture**: this example creates a single agent that interacts with built-in and custom tools\n",
    "* **Connection with AWS services**: connects with Amazon DynamoDB for inventory\n",
    "* **Bedrock Model as underlying LLM**: Used Amazon Nova from Amazon Bedrock as the underlying LLM model"
   ]
  },
  {
   "cell_type": "markdown",
   "metadata": {
    "pycharm": {
     "name": "#%% md\n"
    }
   },
   "source": [
    "## Setup and prerequisites\n",
    "\n",
    "Let's now install the requirement packages and libraries for our Strands Agent"
   ]
  },
  {
   "cell_type": "code",
   "execution_count": null,
   "metadata": {
    "execution": {
     "iopub.execute_input": "2025-07-16T10:21:03.777953Z",
     "iopub.status.busy": "2025-07-16T10:21:03.777536Z",
     "iopub.status.idle": "2025-07-16T10:21:05.694562Z",
     "shell.execute_reply": "2025-07-16T10:21:05.693541Z",
     "shell.execute_reply.started": "2025-07-16T10:21:03.777805Z"
    },
    "pycharm": {
     "is_executing": true,
     "name": "#%%\n"
    },
    "scrolled": true
   },
   "outputs": [],
   "source": [
    "# installing pre-requisites\n",
    "!pip install --upgrade -q strands-agents\n",
    "!pip install --upgrade -q strands-agents-tools\n",
    "!pip install --upgrade -q boto3"
   ]
  },
  {
   "cell_type": "code",
   "execution_count": null,
   "metadata": {
    "execution": {
     "iopub.execute_input": "2025-07-16T10:21:06.539362Z",
     "iopub.status.busy": "2025-07-16T10:21:06.538526Z",
     "iopub.status.idle": "2025-07-16T10:21:07.100100Z",
     "shell.execute_reply": "2025-07-16T10:21:07.099412Z",
     "shell.execute_reply.started": "2025-07-16T10:21:06.539322Z"
    }
   },
   "outputs": [],
   "source": [
    "# import all libraries\n",
    "import os\n",
    "import boto3\n",
    "from strands import Agent, tool\n",
    "from strands.models import BedrockModel\n",
    "from botocore.config import Config as BotocoreConfig\n",
    "from strands_tools import use_aws, http_request"
   ]
  },
  {
   "cell_type": "markdown",
   "metadata": {},
   "source": [
    "### Defining the agent"
   ]
  },
  {
   "cell_type": "code",
   "execution_count": null,
   "metadata": {
    "execution": {
     "iopub.execute_input": "2025-07-16T13:06:56.485341Z",
     "iopub.status.busy": "2025-07-16T13:06:56.484913Z",
     "iopub.status.idle": "2025-07-16T13:06:56.562241Z",
     "shell.execute_reply": "2025-07-16T13:06:56.561191Z",
     "shell.execute_reply.started": "2025-07-16T13:06:56.485314Z"
    }
   },
   "outputs": [],
   "source": [
    "model = BedrockModel(\n",
    "    model_id=\"us.amazon.nova-premier-v1:0\",\n",
    "    region_name=\"us-west-2\",\n",
    "    temperature=0.3,\n",
    "    top_p=0.8\n",
    ")"
   ]
  },
  {
   "cell_type": "code",
   "execution_count": null,
   "metadata": {
    "execution": {
     "iopub.execute_input": "2025-07-16T13:06:57.132055Z",
     "iopub.status.busy": "2025-07-16T13:06:57.131066Z",
     "iopub.status.idle": "2025-07-16T13:06:57.541104Z",
     "shell.execute_reply": "2025-07-16T13:06:57.540201Z",
     "shell.execute_reply.started": "2025-07-16T13:06:57.132003Z"
    }
   },
   "outputs": [],
   "source": [
    "aws_agent = Agent(tools=[use_aws])\n",
    "\n",
    "@tool\n",
    "def get_product(product_id: str):\n",
    "    \"\"\"\n",
    "    Use this tool when you need to get the details of a product to \n",
    "    see if that's available in stock or not.\n",
    "\n",
    "    Args:\n",
    "        product_id: The id of the product\n",
    "\n",
    "    \"\"\"\n",
    "    print(f\"Getting product from Dynamodb with the input {product_id}\")\n",
    "\n",
    "    get_item_result = aws_agent.tool.use_aws(\n",
    "        service_name=\"dynamodb\",\n",
    "        operation_name=\"get_item\",\n",
    "        parameters={\n",
    "            \"TableName\": \"demo_mcp_product_inventory\",\n",
    "            \"Key\":{\n",
    "                \"product_id\": {\n",
    "                    \"S\": product_id\n",
    "            }\n",
    "            }\n",
    "            },\n",
    "        region=\"us-west-2\",\n",
    "        label=\"Get One Item\"\n",
    "    )\n",
    "    return get_item_result\n",
    "\n",
    "\n",
    "_system_prompt = \"\"\"\n",
    "You are an Agent that checks if a product is available in the inventory.\n",
    "Return output in the below JSON format. Do not include any other text.\n",
    "{\n",
    "    \"product_id\" : PRODUCT_ID,\n",
    "    \"in_stock\": IN_STOCK_VALUE\n",
    "}\n",
    "\n",
    "where IN_STOCK_VALUE = \"yes\" if quantity_available is > 0 and \"no\" otherwise.\n",
    "\"\"\"\n",
    "\n",
    "# Register the tool with the agent\n",
    "inventory_agent = Agent(\n",
    "    model=model,\n",
    "    tools=[get_product],\n",
    "    system_prompt=_system_prompt\n",
    ")"
   ]
  },
  {
   "cell_type": "markdown",
   "metadata": {},
   "source": [
    "## Invoking agent\n",
    "\n",
    "Let's now test our agent"
   ]
  },
  {
   "cell_type": "code",
   "execution_count": null,
   "metadata": {
    "execution": {
     "iopub.execute_input": "2025-07-16T13:07:00.542388Z",
     "iopub.status.busy": "2025-07-16T13:07:00.541315Z",
     "iopub.status.idle": "2025-07-16T13:07:04.982693Z",
     "shell.execute_reply": "2025-07-16T13:07:04.981320Z",
     "shell.execute_reply.started": "2025-07-16T13:07:00.542352Z"
    },
    "scrolled": true
   },
   "outputs": [],
   "source": [
    "product_agent_response = inventory_agent(\"What is the available quantity for PROD-048?\")"
   ]
  },
  {
   "cell_type": "markdown",
   "metadata": {},
   "source": [
    "#### Invoking agent with follow up question\n",
    "Ok, let's now check more clothes and options"
   ]
  },
  {
   "cell_type": "code",
   "execution_count": null,
   "metadata": {
    "execution": {
     "iopub.execute_input": "2025-07-16T13:11:34.307954Z",
     "iopub.status.busy": "2025-07-16T13:11:34.307633Z",
     "iopub.status.idle": "2025-07-16T13:14:36.305514Z",
     "shell.execute_reply": "2025-07-16T13:14:36.304697Z",
     "shell.execute_reply.started": "2025-07-16T13:11:34.307923Z"
    }
   },
   "outputs": [],
   "source": [
    "quantity_agent_response = inventory_agent(\"How many PROD-028 are available?\")"
   ]
  },
  {
   "cell_type": "markdown",
   "metadata": {},
   "source": [
    "## Next Step\n",
    "\n",
    "Congrats, you've completed lab 3. Next open `lab 4\\search_orchestrator_agent` to continue."
   ]
  }
 ],
 "metadata": {
  "kernelspec": {
   "display_name": "Python 3 (ipykernel)",
   "language": "python",
   "name": "python3"
  },
  "language_info": {
   "codemirror_mode": {
    "name": "ipython",
    "version": 3
   },
   "file_extension": ".py",
   "mimetype": "text/x-python",
   "name": "python",
   "nbconvert_exporter": "python",
   "pygments_lexer": "ipython3",
   "version": "3.12.9"
  }
 },
 "nbformat": 4,
 "nbformat_minor": 4
}
