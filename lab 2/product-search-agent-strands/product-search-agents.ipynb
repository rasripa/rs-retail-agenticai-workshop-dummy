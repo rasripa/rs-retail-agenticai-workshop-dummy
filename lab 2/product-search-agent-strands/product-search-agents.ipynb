{
 "cells": [
  {
   "cell_type": "markdown",
   "metadata": {
    "collapsed": false,
    "jupyter": {
     "outputs_hidden": false
    },
    "pycharm": {
     "name": "#%% md\n"
    }
   },
   "source": [
    "# Product Search Strands Agents with AWS services\n",
    "\n",
    "## Overview\n",
    "In this section, we will create a Strands agent for product search and recommendations. The customer will be able to ask the agent for available clothes in the catalogue and any recommendations of clothing for events and seasons.\n",
    "\n",
    "The steps to complete this notebook are:\n",
    "\n",
    "1. Install the necessary packages\n",
    "1. Create S3 Bucket and Bedrock Knowledge Base\n",
    "1. Create the Strands Agent\n",
    "1. Add Guardrails to the Agent\n",
    "1. Access a MCP Server using Agent\n",
    "1. Test the Agent\n",
    "\n",
    "\n",
    "## Agent Details\n",
    "<div style=\"float: left; margin-right: 20px;\">\n",
    "    \n",
    "|Feature             |Description                                        |\n",
    "|--------------------|---------------------------------------------------|\n",
    "|Native tools used   |retrieve                             |\n",
    "|Agent Structure     |Single agent architecture                          |\n",
    "|AWS services used   |Amazon Bedrock (Knowledge Base, Guardrail), Amazon Strands agent, Amazon DynamoDB, Amazon S3   |\n",
    "\n",
    "</div>\n"
   ]
  },
  {
   "cell_type": "markdown",
   "metadata": {
    "collapsed": false,
    "jupyter": {
     "outputs_hidden": false
    },
    "pycharm": {
     "name": "#%% md\n"
    }
   },
   "source": [
    "## Architecture\n",
    "\n",
    "<div style=\"text-align:center\">\n",
    "    <img src=\"product-search-architecture.png\" width=\"85% />\n",
    "</div>\n",
    "\n",
    "## Key Features\n",
    "* **Single agent architecture**: this example creates a single agent that interacts with built-in and custom tools\n",
    "* **Connection with AWS services**: connects with Amazon Bedrock Knoledge Base for information about available clothing\n",
    "* **Bedrock Model as underlying LLM**: Used Anthropic Claude 4 from Amazon Bedrock as the underlying LLM model"
   ]
  },
  {
   "cell_type": "markdown",
   "metadata": {},
   "source": [
    "## 1. Install the necessary packages"
   ]
  },
  {
   "cell_type": "code",
   "execution_count": null,
   "metadata": {},
   "outputs": [],
   "source": [
    "!pip install --upgrade -q strands-agents strands-agents-tools boto3 requests-aws4auth"
   ]
  },
  {
   "cell_type": "markdown",
   "metadata": {},
   "source": [
    "## 2. S3 Bucket and Knowledge Base\n",
    "The S3 bucket and Bedrock Knowledge Base needed for this workshop have been created in the \"prerequisites\" lab."
   ]
  },
  {
   "cell_type": "markdown",
   "metadata": {},
   "source": [
    "### Import standard libraries"
   ]
  },
  {
   "cell_type": "markdown",
   "metadata": {},
   "source": [
    "## 3. Create Product Search Agent\n",
    "\n",
    "### Import libraries including the Strands library\n",
    "Import the libraries including the Strands and Strands Tools libraries."
   ]
  },
  {
   "cell_type": "code",
   "execution_count": null,
   "metadata": {},
   "outputs": [],
   "source": [
    "from strands import Agent, tool\n",
    "from strands_tools import retrieve\n",
    "from strands.models import BedrockModel\n",
    "\n",
    "import boto3\n",
    "from botocore.config import Config as BotocoreConfig"
   ]
  },
  {
   "cell_type": "code",
   "execution_count": null,
   "metadata": {},
   "outputs": [],
   "source": [
    "# Fetch the knowledge base ID of the Product Search Knowledge Base from pre-requisites step\n",
    "%store -r product_search_kb_id\n",
    "print(product_search_kb_id)"
   ]
  },
  {
   "cell_type": "markdown",
   "metadata": {},
   "source": [
    "### Instantiate a simple Agent"
   ]
  },
  {
   "cell_type": "code",
   "execution_count": null,
   "metadata": {},
   "outputs": [],
   "source": [
    "# Create a boto client config with custom settings\n",
    "boto_config = BotocoreConfig(\n",
    "    retries={\"max_attempts\": 3, \"mode\": \"standard\"},\n",
    "    connect_timeout=5,\n",
    "    read_timeout=60\n",
    ")\n",
    "\n",
    "# Create a Bedrock model instance\n",
    "bedrock_model = BedrockModel(\n",
    "    model_id=\"us.anthropic.claude-3-7-sonnet-20250219-v1:0\",\n",
    "    region_name=\"us-west-2\",\n",
    "    temperature=0.3,\n",
    "    top_p=0.8,\n",
    "    boto_client_config=boto_config,\n",
    ")\n",
    "\n",
    "# Create the prompt for the agent, specify the instructions and guidelines on the output format\n",
    "system_prompt = f\"\"\"You are an \\\"AI shopping assistant\\\", that helps customers discover\n",
    "  products. You use a Knowledge Base with the id {product_search_kb_id} to search for products based on user preferences \n",
    "  and recommends them to the customers. Use confidence threshold of 0.3.\n",
    "     \n",
    "  Note: \n",
    "    - If you cannot find any matching products, please mention that nothing is available. Do not offer any generic products in the response.\n",
    "    - Do not ask any questions in the response.\n",
    "     \n",
    "  You respond in the below JSON array format - \n",
    "  [\n",
    "     { { \"product_id\": \"PROD-010\", \n",
    "       \"product_name\": \"Uniqlo Ultra Light Down Jacket\", \n",
    "       \"brand_name\": \"Uniqlo\", \n",
    "       \"category\": \"Clothing\", \n",
    "       \"subcategory\": \"Outerwear\", \n",
    "       \"gender\": \"Unisex\", \n",
    "       \"price\": 69.90, \n",
    "       \"sale_price\": 49.90, \n",
    "       \"size\": [\"XS\", \"S\", \"M\", \"L\", \"XL\", \"XXL\"], \n",
    "       \"color\": [\"Black\", \"Navy\", \"Red\", \"Olive\", \"Grey\"], \n",
    "       \"materials\": [\"100% Nylon\", \"Down filling\", \"Water-repellent coating\"], \n",
    "       \"season\": \"Fall/Winter\" \n",
    "       } },\n",
    "       ...\n",
    "  ] \n",
    "  \n",
    "\"\"\"\n",
    "\n",
    "# Create the Agent. Pass the \"retrieve\" tool in the tools list.\n",
    "product_search_agent = Agent(\n",
    "    tools=[retrieve],\n",
    "    model=bedrock_model,\n",
    "    system_prompt=system_prompt\n",
    ")"
   ]
  },
  {
   "cell_type": "markdown",
   "metadata": {},
   "source": [
    "## Test the agent\n",
    "\n",
    "Let's now test our agent."
   ]
  },
  {
   "cell_type": "code",
   "execution_count": null,
   "metadata": {
    "scrolled": true
   },
   "outputs": [],
   "source": [
    "results = product_search_agent(\"Have you got any baby clothes?\")\n",
    "print(results)"
   ]
  },
  {
   "cell_type": "markdown",
   "metadata": {},
   "source": [
    "#### Invoking agent with follow up question\n",
    "Ok, let's now check more clothes and options"
   ]
  },
  {
   "cell_type": "code",
   "execution_count": null,
   "metadata": {
    "scrolled": true
   },
   "outputs": [],
   "source": [
    "results = product_search_agent(\"Could you filter the jacket by color and select only the ones in olive?\")"
   ]
  },
  {
   "cell_type": "code",
   "execution_count": null,
   "metadata": {},
   "outputs": [],
   "source": [
    "results_jacket = product_search_agent(\"Do you have any dresses under 100$?\")"
   ]
  },
  {
   "cell_type": "markdown",
   "metadata": {},
   "source": [
    "## 4. Add Guardrails to the Agent"
   ]
  },
  {
   "cell_type": "code",
   "execution_count": null,
   "metadata": {},
   "outputs": [],
   "source": [
    "# Create a Bedrock guardrail\n",
    "\n",
    "bedrock_client = boto3.client('bedrock')\n",
    "response = bedrock_client.create_guardrail(\n",
    "    name='product-specific-restrictions',\n",
    "    description='Prevents the model from providing recommendations on specific products.',\n",
    "    topicPolicyConfig={\n",
    "        'topicsConfig': [\n",
    "            {\n",
    "                'name': 'Product restrictions',\n",
    "                'definition': 'Providing recommendations on product restricted by anycompany and not related to the products available in anycompany.',\n",
    "                'examples': ['Competitor brands', 'Inappropriate or offensive clothing', 'fake','counterfeit'\n",
    "                ],\n",
    "                'type': 'DENY'\n",
    "            }\n",
    "        ]\n",
    "    },\n",
    "    contentPolicyConfig={\n",
    "        'filtersConfig': [\n",
    "            {\n",
    "                'type': 'SEXUAL',\n",
    "                'inputStrength': 'HIGH',\n",
    "                'outputStrength': 'HIGH'\n",
    "            },\n",
    "            {\n",
    "                'type': 'VIOLENCE',\n",
    "                'inputStrength': 'HIGH',\n",
    "                'outputStrength': 'HIGH'\n",
    "            },\n",
    "            {\n",
    "                'type': 'HATE',\n",
    "                'inputStrength': 'HIGH',\n",
    "                'outputStrength': 'HIGH'\n",
    "            },\n",
    "            {\n",
    "                'type': 'INSULTS',\n",
    "                'inputStrength': 'HIGH',\n",
    "                'outputStrength': 'HIGH'\n",
    "            },\n",
    "            {\n",
    "                'type': 'MISCONDUCT',\n",
    "                'inputStrength': 'HIGH',\n",
    "                'outputStrength': 'HIGH'\n",
    "            },\n",
    "            {\n",
    "                'type': 'PROMPT_ATTACK',\n",
    "                'inputStrength': 'HIGH',\n",
    "                'outputStrength': 'NONE'\n",
    "            }\n",
    "        ]\n",
    "    },\n",
    "    wordPolicyConfig={\n",
    "        'wordsConfig': [\n",
    "            {'text': 'counterfeit'},\n",
    "            {'text': 'fake'},\n",
    "            {'text': 'sexy'},\n",
    "            {'text': 'h&m'},\n",
    "            {'text': 'nazi'},\n",
    "            {'text': 'lolita'},\n",
    "            {'text': 'dupe'}\n",
    "        ],\n",
    "        'managedWordListsConfig': [\n",
    "            {\n",
    "                'type': 'PROFANITY'\n",
    "            }\n",
    "        ]\n",
    "    },\n",
    "    blockedInputMessaging='Dear customer, I apologize, but I am not able to provide any recommendations related to your request. Please modify your input and try again.',\n",
    "    blockedOutputsMessaging='Dear customer, I apologize, but I am not able to provide any recommendations related to your request. Please modify your input and try again.',\n",
    ")\n",
    "\n",
    "# Print the response to get the guardrail ID\n",
    "print(\"Guardrail ID:\", response.get('guardrailId'))\n",
    "print(\"Guardrail ARN:\", response.get('guardrailArn'))\n",
    "\n",
    "# Store the guardrail ID for later use"
   ]
  },
  {
   "cell_type": "code",
   "execution_count": null,
   "metadata": {},
   "outputs": [],
   "source": [
    "guardrail_id = response.get('guardrailId')\n",
    "guardrail_version = \"DRAFT\"  # Initial version is always 1"
   ]
  },
  {
   "cell_type": "markdown",
   "metadata": {},
   "source": [
    "### Testing the guardrail directly\n",
    "\n",
    "To verify that the guardrail works as expected, we will create the test_guardrail support function. this function will use the apply_guardrail method to safeguard the input text and provide information about any actions taken by the guardrail"
   ]
  },
  {
   "cell_type": "code",
   "execution_count": null,
   "metadata": {
    "scrolled": true
   },
   "outputs": [],
   "source": [
    "# Test function to check if input/output is blocked by guardrail\n",
    "bedrock_runtime = boto3.client('bedrock-runtime')\n",
    "def test_guardrail(text, source_type='INPUT'):\n",
    "      response = bedrock_runtime.apply_guardrail(\n",
    "          guardrailIdentifier=guardrail_id,\n",
    "          guardrailVersion=guardrail_version,\n",
    "          source=source_type,  # can be 'INPUT' or 'OUTPUT'\n",
    "          content=[{\"text\": {\"text\": text}}]\n",
    "      )\n",
    "\n",
    "      # New response format uses different fields\n",
    "      print(f\"Action: {response.get('action')}\")\n",
    "      print(f\"Action Reason: {response.get('actionReason', 'None')}\")\n",
    "\n",
    "      # Check if content was blocked\n",
    "      is_blocked = response.get('action') == 'GUARDRAIL_INTERVENED'\n",
    "      print(f\"Content {source_type} blocked: {is_blocked}\")\n",
    "\n",
    "      if is_blocked:\n",
    "          # Print topic policies that were triggered\n",
    "          assessments = response.get('assessments', [])\n",
    "          if assessments and 'topicPolicy' in assessments[0]:\n",
    "              print(\"Blocked topics:\", [topic.get('name') for topic in\n",
    "          assessments[0]['topicPolicy'].get('topics', [])\n",
    "                                       if topic.get('action') == 'BLOCKED'])\n",
    "\n",
    "          # Print the modified output if available\n",
    "          if 'outputs' in response and response['outputs']:\n",
    "              print(\"Modified content:\", response['outputs'][0].get('text', 'None'))\n",
    "\n",
    "      return response\n",
    "\n",
    "# Test input that will be blocked. This will be blocked since the input contains\n",
    "# the diallowed word \"lolita\".\n",
    "print(\"\\nTesting input that will be blocked:\")\n",
    "test_guardrail(\"Can you recommend me a dress lolita style?\")\n",
    "\n",
    "# Test input that will be blocked. This will be blocked since the input contains\n",
    "# the diallowed word \"dupe\".\n",
    "print(\"\\nTesting input that will be blocked:\")\n",
    "test_guardrail(\"Where can I find a dupe of Chanel jacket?\")\n",
    "\n",
    "# Test some safe input. This will not be blocked.\n",
    "print(\"Testing safe input:\")\n",
    "test_guardrail(\"I am looking for a swimming suit for my holidays in Bali. What can you recommend? I want a 2 pieces\")\n"
   ]
  },
  {
   "cell_type": "markdown",
   "metadata": {},
   "source": [
    "### Integrating with Strands Agent\n",
    "\n",
    "Now that we confirmed the guardrail is working as expected, let's integrate it the Amazon Bedrock Guardrail with a Strands Agent. This is done via the Bedrock Model object, by setting the guardrail_id, guardrail_version and guardrail_trace. Once the model object is created you can use it to create your agent. "
   ]
  },
  {
   "cell_type": "code",
   "execution_count": null,
   "metadata": {},
   "outputs": [],
   "source": [
    "guardrail_id, guardrail_version"
   ]
  },
  {
   "cell_type": "code",
   "execution_count": null,
   "metadata": {
    "scrolled": true
   },
   "outputs": [],
   "source": [
    "# Create a Bedrock model with guardrail configuration\n",
    "bedrock_model = BedrockModel(\n",
    "    model_id=\"us.amazon.nova-premier-v1:0\",\n",
    "    region_name=\"us-west-2\",\n",
    "    guardrail_id=guardrail_id,\n",
    "    guardrail_version=guardrail_version,\n",
    "    guardrail_trace=\"enabled\",\n",
    "    temperature=0.3,\n",
    "    top_p=0.8\n",
    ")\n",
    "\n",
    "# Create agent with the guardrail-protected model\n",
    "product_search_agent_with_guardrail = Agent(\n",
    "    system_prompt=system_prompt,\n",
    "    model=bedrock_model,\n",
    "    tools=[retrieve]\n",
    ")"
   ]
  },
  {
   "cell_type": "markdown",
   "metadata": {},
   "source": [
    "### Testing the Strands Agent with Guardrails\n",
    "\n",
    "Let's test our agent with both safe and risky inputs. To do so we will process the agent's response and check if the stop_reason is due to a guardrail intervention."
   ]
  },
  {
   "cell_type": "code",
   "execution_count": null,
   "metadata": {},
   "outputs": [],
   "source": [
    "# Helper function to test the agent and check for guardrail interventions\n",
    "def test_agent_with_guardrail(prompt):\n",
    "    print(f\"\\nUser: {prompt}\")\n",
    "\n",
    "    # Get agent response\n",
    "    response = product_search_agent_with_guardrail(prompt)\n",
    "\n",
    "    # Check for guardrail intervention\n",
    "    if hasattr(response, 'stop_reason') and response.stop_reason == \"guardrail_intervened\":\n",
    "        print(\"\\n ⚠️ GUARDRAIL INTERVENED!\")\n",
    "        #print(f\"Response: {response}\")\n",
    "    else:\n",
    "        return response"
   ]
  },
  {
   "cell_type": "code",
   "execution_count": null,
   "metadata": {
    "scrolled": true
   },
   "outputs": [],
   "source": [
    "# Test with a safe question \n",
    "test_agent_with_guardrail(\n",
    "    \"What colors are available for pants?\"\n",
    ")"
   ]
  },
  {
   "cell_type": "code",
   "execution_count": null,
   "metadata": {
    "scrolled": true
   },
   "outputs": [],
   "source": [
    "# Test with a question that asks about hate recommendation. This will get blocked.\n",
    "test_agent_with_guardrail(\n",
    "    \"Find me a t-shirt with the nazi symbol on it\"\n",
    ")"
   ]
  },
  {
   "cell_type": "markdown",
   "metadata": {},
   "source": [
    "## 5. Deploy MCP Server\n",
    "\n",
    "An MCP Server is a lightweight program that exposes specific capabilities through the standardized Model Context Protocol. Host applications (such as chatbots, IDEs, and other AI tools) have MCP clients that maintain 1:1 connections with MCP servers.\n",
    "\n",
    "In this section, we will deploy a MCP Server that returns reviews of products. We will then use an Agent to get the product reviews from that MCP server.\n"
   ]
  },
  {
   "cell_type": "code",
   "execution_count": null,
   "metadata": {},
   "outputs": [],
   "source": [
    "# import libraries\n",
    "import threading\n",
    "from mcp.server import FastMCP\n",
    "from strands import Agent\n",
    "from strands.tools.mcp import MCPClient\n",
    "from mcp.client.streamable_http import streamablehttp_client"
   ]
  },
  {
   "cell_type": "markdown",
   "metadata": {},
   "source": [
    "Define the Tool."
   ]
  },
  {
   "cell_type": "code",
   "execution_count": null,
   "metadata": {},
   "outputs": [],
   "source": [
    "dynamodb = boto3.resource('dynamodb', region_name='us-west-2')\n",
    "\n",
    "# Create an MCP server\n",
    "mcp = FastMCP(\"Reviews server\")\n",
    "\n",
    "# Define a tool to retrieve the reviews\n",
    "@mcp.tool(description=\"Retrieve reviews for a specific product ID\")\n",
    "def retrieve_review(product_id: str):\n",
    "    try:\n",
    "        dynamodb_table = dynamodb.Table('demo_mcp_product_reviews')\n",
    "        response = dynamodb_table.query(\n",
    "            KeyConditionExpression='product_id = :pid',\n",
    "            ExpressionAttributeValues={\n",
    "                ':pid': product_id\n",
    "            }\n",
    "        )\n",
    "        if 'Items' in response:\n",
    "            return response['Items']\n",
    "        return {\"error\": \"No reviews found for this product\"}\n",
    "    except ClientError as e:\n",
    "        return {\"error\": f\"Database error: {str(e)}\"}\n",
    "    except Exception as e:\n",
    "        return {\"error\": f\"Unexpected error: {str(e)}\"}\n",
    "\n",
    "def main():\n",
    "    try:\n",
    "        mcp.run(transport=\"streamable-http\", mount_path=\"mcp\")\n",
    "    except Exception as e:\n",
    "        print(f\"Server error: {str(e)}\")"
   ]
  },
  {
   "cell_type": "markdown",
   "metadata": {},
   "source": [
    "Start a Thread."
   ]
  },
  {
   "cell_type": "code",
   "execution_count": null,
   "metadata": {},
   "outputs": [],
   "source": [
    "thread = threading.Thread(target=main)\n",
    "thread.start()"
   ]
  },
  {
   "cell_type": "markdown",
   "metadata": {},
   "source": [
    "Now lets create a streamable HTTP MCP client."
   ]
  },
  {
   "cell_type": "code",
   "execution_count": null,
   "metadata": {},
   "outputs": [],
   "source": [
    "def create_streamable_http_transport():\n",
    "    return streamablehttp_client(\"http://localhost:8000/mcp\")\n",
    "\n",
    "streamable_http_mcp_client = MCPClient(create_streamable_http_transport)"
   ]
  },
  {
   "cell_type": "markdown",
   "metadata": {},
   "source": [
    "Finally, create a Strands Agent that uses the MCP client to fetch data from the MCP Server."
   ]
  },
  {
   "cell_type": "code",
   "execution_count": null,
   "metadata": {},
   "outputs": [],
   "source": [
    "with streamable_http_mcp_client:\n",
    "    tools = streamable_http_mcp_client.list_tools_sync()\n",
    "    agent = Agent(tools=tools)\n",
    "    response = str(agent(\"What is the review of PROD-024?\"))"
   ]
  },
  {
   "cell_type": "markdown",
   "metadata": {},
   "source": [
    "## Next Step\n",
    "\n",
    "Congrats. You have completed Lab 2. Now let's move on to Lab 3. Open `lab 3\\inventory-agent-strand` to continue."
   ]
  }
 ],
 "metadata": {
  "kernelspec": {
   "display_name": "Python 3 (ipykernel)",
   "language": "python",
   "name": "python3"
  },
  "language_info": {
   "codemirror_mode": {
    "name": "ipython",
    "version": 3
   },
   "file_extension": ".py",
   "mimetype": "text/x-python",
   "name": "python",
   "nbconvert_exporter": "python",
   "pygments_lexer": "ipython3",
   "version": "3.12.9"
  }
 },
 "nbformat": 4,
 "nbformat_minor": 4
}
