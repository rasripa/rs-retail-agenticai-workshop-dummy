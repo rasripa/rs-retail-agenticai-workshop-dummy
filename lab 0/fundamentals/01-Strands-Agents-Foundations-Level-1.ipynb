{
 "cells": [
  {
   "cell_type": "markdown",
   "id": "65496cfd-f501-4aa9-9bb2-acdaa44644ed",
   "metadata": {},
   "source": [
    "# Strands Agents Fundamentals - Part 1"
   ]
  },
  {
   "cell_type": "markdown",
   "id": "ee80b541-e7f1-424c-91a4-ed6faa0cdafa",
   "metadata": {},
   "source": [
    "<div style=\"background-color: #FFE4B5; padding: 15px; border-radius: 5px; margin: 10px 0;width: 85%;\">\n",
    "  <strong>!! Important Note !!</strong><br>\n",
    "  In this notebook we will learn some basic features of strands-agents. If you are already familiar with the foundations, please skip this notebook and continue with the rest of the labs. Most of the examples referrenced in this notebook are from <b><a href=\"https://strandsagents.com/\">strands-agents official documentation</a></b>\n",
    "</div>"
   ]
  },
  {
   "cell_type": "markdown",
   "id": "ab487915-5b84-4142-b818-a8b141698f32",
   "metadata": {
    "execution": {
     "iopub.execute_input": "2025-07-04T22:40:36.978720Z",
     "iopub.status.busy": "2025-07-04T22:40:36.978406Z",
     "iopub.status.idle": "2025-07-04T22:40:36.983201Z",
     "shell.execute_reply": "2025-07-04T22:40:36.982014Z",
     "shell.execute_reply.started": "2025-07-04T22:40:36.978700Z"
    }
   },
   "source": [
    "[Strands Agents](https://strandsagents.com/latest/) is a simple-to-use, code-first framework for building agents.\n",
    "\n",
    "- [strands-agents-github-repository](https://github.com/strands-agents)\n"
   ]
  },
  {
   "cell_type": "markdown",
   "id": "92072a35-400b-47d9-b255-b001735a7d4f",
   "metadata": {},
   "source": [
    "## Pre-requisites"
   ]
  },
  {
   "cell_type": "markdown",
   "id": "67571221-eeef-4197-86ed-cf4c34cb3807",
   "metadata": {
    "execution": {
     "iopub.execute_input": "2025-07-04T23:22:28.204060Z",
     "iopub.status.busy": "2025-07-04T23:22:28.203753Z",
     "iopub.status.idle": "2025-07-04T23:22:28.210070Z",
     "shell.execute_reply": "2025-07-04T23:22:28.209313Z",
     "shell.execute_reply.started": "2025-07-04T23:22:28.204038Z"
    }
   },
   "source": [
    "<div style=\"background-color: #FFE4B5; padding: 15px; width: 85%;\"> <h4> <b> !! Important !! </b> </h4>\n",
    "<b>Enable model access</b> through Amazon Bedrock Console and select the models you like to experiment today. Region <b>us-west-2</b>.<br/>\n",
    " \n",
    "The default model provider used by strandsagents is [Amazon Bedrock](https://strandsagents.com/latest/user-guide/concepts/model-providers/amazon-bedrock) and the default model is <b>Claude 3.7 Sonnet in the US Oregon (us-west-2) region </b>.\n",
    "Different model providers can be configured for agents by following the [quickstart guide](https://strandsagents.com/latest/user-guide/quickstart/#model-providers). </div>"
   ]
  },
  {
   "cell_type": "code",
   "execution_count": null,
   "id": "a05a957b-d60b-4da0-9e58-f3b1389a134f",
   "metadata": {
    "execution": {
     "iopub.execute_input": "2025-07-18T14:35:59.683528Z",
     "iopub.status.busy": "2025-07-18T14:35:59.683203Z",
     "iopub.status.idle": "2025-07-18T14:36:01.415599Z",
     "shell.execute_reply": "2025-07-18T14:36:01.414892Z",
     "shell.execute_reply.started": "2025-07-18T14:35:59.683503Z"
    }
   },
   "outputs": [],
   "source": [
    "!pip install --upgrade pip "
   ]
  },
  {
   "cell_type": "markdown",
   "id": "58de1f41-9b26-4693-b6ee-204c683a31fb",
   "metadata": {},
   "source": [
    "### Install necessary strands-agents and mcp packages Agents SDK"
   ]
  },
  {
   "cell_type": "markdown",
   "id": "01233643-07be-4e42-ab2d-c9a1917708ac",
   "metadata": {},
   "source": [
    "The Strands Agents SDK also offers the [strands-agents-tools](https://pypi.org/project/strands-agents-tools/) - [GitHub](https://github.com/strands-agents/tools) and [strands-agents-builder](https://pypi.org/project/strands-agents-builder/) - [GitHub](https://github.com/strands-agents/agent-builder) package helps you build your own strands-agents and tools. We are not using agent-builder in todays workshop, so not installing the package."
   ]
  },
  {
   "cell_type": "code",
   "execution_count": null,
   "id": "53050922-c286-4e82-a14a-db31861515a5",
   "metadata": {
    "execution": {
     "iopub.execute_input": "2025-07-18T14:36:01.562128Z",
     "iopub.status.busy": "2025-07-18T14:36:01.561341Z",
     "iopub.status.idle": "2025-07-18T14:36:03.161841Z",
     "shell.execute_reply": "2025-07-18T14:36:03.161131Z",
     "shell.execute_reply.started": "2025-07-18T14:36:01.562098Z"
    },
    "scrolled": true
   },
   "outputs": [],
   "source": [
    "!pip install strands-agents strands-agents-tools mcp"
   ]
  },
  {
   "cell_type": "markdown",
   "id": "606f3c60-4bf8-4708-b514-24032449452f",
   "metadata": {},
   "source": [
    "## Section 1: Let's learn some basic strands-agents features"
   ]
  },
  {
   "cell_type": "markdown",
   "id": "f5533947-b6f3-4e5a-8dad-b7632d758d2a",
   "metadata": {},
   "source": [
    "<div style=\"background-color: #FFE4B5; padding: 15px; border-radius: 5px; margin: 10px 0; font-size:13px; width:85%\">\n",
    "<strong>Note:</strong> If you like to run this code through <b>terminal</b> or <b>an IDE</b>, use the python file \"/agenticai-for-retail/00-Introduction/strands-agents-fundamentals.py\" <br/>\n",
    "    <b>example:</b> <code>python -m strands-agents-fundamentals</code> <br/>\n",
    "    Please make sure the pre-requisite packages are installed and a python virtual environment is setup. Refer the <a href=\"https://strandsagents.com/latest/user-guide/quickstart/\"> <b>quickstart guide</b> </a>\n",
    "</div>"
   ]
  },
  {
   "cell_type": "markdown",
   "id": "ad27d23c-f72f-4117-b459-8522c2f5f122",
   "metadata": {},
   "source": [
    "### 1.a Simple Agent with default model parameters\n",
    "Make sure you have access to the default model (refer pre-requisites section, for more details on supported model providers and necessary configurations)"
   ]
  },
  {
   "cell_type": "code",
   "execution_count": null,
   "id": "5e1dc630-0ba4-4f59-8c6f-3d7f963feba4",
   "metadata": {
    "execution": {
     "iopub.execute_input": "2025-07-18T14:36:30.209736Z",
     "iopub.status.busy": "2025-07-18T14:36:30.209419Z",
     "iopub.status.idle": "2025-07-18T14:36:40.229676Z",
     "shell.execute_reply": "2025-07-18T14:36:40.228967Z",
     "shell.execute_reply.started": "2025-07-18T14:36:30.209714Z"
    },
    "scrolled": true
   },
   "outputs": [],
   "source": [
    "from strands import Agent\n",
    "\n",
    "# Create an agent with default settings\n",
    "agent = Agent()\n",
    "print(agent.model.config)\n",
    "# Ask the agent a question. Review the response and agent traces with token count & latency, etc.\n",
    "agent(\"Tell me about agentic AI\")"
   ]
  },
  {
   "cell_type": "markdown",
   "id": "05e0dbbf-8cdb-49c0-a85e-3b8ce3d0e55d",
   "metadata": {},
   "source": [
    "### 1.b Agent with a Bedrock model that is different than default model. Also, including a simple system prompt"
   ]
  },
  {
   "cell_type": "code",
   "execution_count": null,
   "id": "b3158648-a57e-46cc-9667-bc393701b504",
   "metadata": {
    "scrolled": true
   },
   "outputs": [],
   "source": [
    "# Create an agent with a specific model by passing the model ID string - use the model you have enabled access for.\n",
    "\n",
    "# agent = Agent(model=\"us.amazon.nova-premier-v1:0\") # simple agent with specific model. alternate with system prompt in the next step.\n",
    "\n",
    "agent = Agent(model=\"us.amazon.nova-premier-v1:0\", system_prompt=\"You are a helpful assistant that provides concise answers. \")\n",
    "agent(\"Tell me about agentic AI\")"
   ]
  },
  {
   "cell_type": "markdown",
   "id": "6fc5e623-2b1e-41c1-bd8c-7fb9b11b3957",
   "metadata": {},
   "source": [
    "### 1.c Agent with custom model parameters and optionally custom boto3 configurations (example - readtimeout, retries, etc.)\n",
    "\n",
    "The [BedrockModel](https://strandsagents.com/latest/api-reference/models/#strands.models.bedrock) class in Strands enables seamless integration with Amazon Bedrock's API, supporting:\n",
    "- Text generation\n",
    "- Multi-Modal understanding (Image, Document, etc.)\n",
    "- Tool/function calling\n",
    "- Guardrail configurations\n",
    "- System Prompt, Tool, and/or Message caching\n",
    "\n",
    "We will experiment with some of these features. Feel free to refer above documentation and try out other supported features as well"
   ]
  },
  {
   "cell_type": "code",
   "execution_count": null,
   "id": "e1de43aa-a8e4-4f1e-a694-29637a2cc26e",
   "metadata": {
    "scrolled": true
   },
   "outputs": [],
   "source": [
    "from strands.models import BedrockModel\n",
    "from botocore.config import Config as BotocoreConfig\n",
    "\n",
    "# Create a boto client config with custom settings\n",
    "boto_config = BotocoreConfig(\n",
    "    retries={\"max_attempts\": 2, \"mode\": \"standard\"},\n",
    "    connect_timeout=5,\n",
    "    read_timeout=30\n",
    ")\n",
    "\n",
    "# Create a Bedrock model instance\n",
    "bedrock_model = BedrockModel(\n",
    "    model_id=\"us.amazon.nova-premier-v1:0\", # try with different models you enabled access\n",
    "    region_name=\"us-west-2\",\n",
    "    temperature=0.3,\n",
    "    top_p=0.8,\n",
    "    boto_client_config=boto_config,\n",
    ")\n",
    "\n",
    "# Create an agent using the BedrockModel instance\n",
    "agent = Agent(model=bedrock_model)\n",
    "\n",
    "# Use the agent\n",
    "agent_response_with_nova_premier = agent(\"Tell me about Amazon Bedrock.\")"
   ]
  },
  {
   "cell_type": "code",
   "execution_count": null,
   "id": "849cecf6-9496-4b9f-9ae2-1a1557aae420",
   "metadata": {},
   "outputs": [],
   "source": [
    "# storing the object in local memory to use in Level-2 notebook\n",
    "%store agent_response_with_nova_premier"
   ]
  },
  {
   "cell_type": "markdown",
   "id": "8d9f4e90-f60e-4af8-aabf-91c3ad9a6545",
   "metadata": {},
   "source": [
    "### 1.d Agent with debug logs enabled\n",
    "\n",
    "Strands SDK uses Python's standard logging module to provide visibility into its operations.\n",
    "\n",
    "#### Log Levels:\n",
    "- **DEBUG:** Used throughout the SDK for detailed operational information, particularly for tool registration, discovery, configuration, and execution flows.\n",
    "- **WARNING:** Used to indicate potential issues that don't prevent operation, such as tool validation failures, specification validation errors, and context window overflow conditions.\n",
    "- **ERROR:** Used to report significant problems that prevent specific operations from completing successfully, such as tool execution failures, event loop cycle exceptions, and handler errors.\n"
   ]
  },
  {
   "cell_type": "code",
   "execution_count": null,
   "id": "60eb6b19-36a7-4e34-98c0-f7717d823182",
   "metadata": {
    "scrolled": true
   },
   "outputs": [],
   "source": [
    "import logging\n",
    "\n",
    "# Enables Strands debug log level\n",
    "logging.getLogger(\"strands\").setLevel(logging.DEBUG)\n",
    "\n",
    "# Sets the logging format and streams logs. prints the detailed trace steps and event loop cycles\n",
    "logging.basicConfig(\n",
    "    format=\"%(levelname)s | %(name)s | %(message)s\",\n",
    "    handlers=[logging.StreamHandler()]\n",
    ")\n",
    "\n",
    "agent = Agent() # using default model\n",
    "\n",
    "agent(\"Tell me about Amazon Bedrock.\")"
   ]
  },
  {
   "cell_type": "markdown",
   "id": "cd150603-f946-42d9-9fb8-9ad8bf7b9126",
   "metadata": {},
   "source": [
    "Disabling DEBUG log for better readability in the next steps. DEBUG log might print quite a few logs in the subsequent steps, especillay when you use tools"
   ]
  },
  {
   "cell_type": "code",
   "execution_count": null,
   "id": "a1229e1c-308c-4da0-b463-857cff8206d8",
   "metadata": {},
   "outputs": [],
   "source": [
    "# Disable Strands debug log level\n",
    "logging.getLogger(\"strands\").setLevel(logging.ERROR)"
   ]
  },
  {
   "cell_type": "markdown",
   "id": "371b7e0a-e02b-4715-b603-8d9c6725fb16",
   "metadata": {},
   "source": [
    "### **1.e Tools**\n",
    "\n",
    "Tools are the primary mechanism for extending agent capabilities, enabling them to perform actions beyond simple text generation. Tools allow agents to interact with external systems, access data, and manipulate their environment.\n",
    "Strands offers built-in example tools to get started quickly experimenting with agents and tools during development. \n",
    "For more information, see [Example Built-in Tools](https://strandsagents.com/latest/user-guide/concepts/tools/example-tools-package/). The package is also open source and available on [GitHub](https://github.com/strands-agents/tools).\n",
    "\n",
    "You can also define [python-based tools](https://strandsagents.com/latest/user-guide/concepts/tools/python-tools/) in Strands. This can be done either using [@tool](https://strandsagents.com/latest/api-reference/tools/#strands.tools.decorator.tool) decorator ir by defining a tool specification.\n",
    "\n",
    "**Below example uses default example strands-tools ([calculator](https://github.com/strands-agents/tools/blob/main/src/strands_tools/calculator.py), [current_time](https://github.com/strands-agents/tools/blob/main/src/strands_tools/calculator.py), [python_repl](https://github.com/strands-agents/tools/blob/main/src/strands_tools/python_repl.py) ) and a custom tool (*letter_counter*) defined using a python decorator.**"
   ]
  },
  {
   "cell_type": "code",
   "execution_count": null,
   "id": "b45b2348-97a8-4c8d-9876-da5703e9e080",
   "metadata": {
    "execution": {
     "iopub.execute_input": "2025-07-18T14:58:04.851028Z",
     "iopub.status.busy": "2025-07-18T14:58:04.850702Z",
     "iopub.status.idle": "2025-07-18T14:58:26.694205Z",
     "shell.execute_reply": "2025-07-18T14:58:26.693537Z",
     "shell.execute_reply.started": "2025-07-18T14:58:04.851004Z"
    },
    "scrolled": true
   },
   "outputs": [],
   "source": [
    "from strands import tool\n",
    "from strands_tools import calculator, current_time, generate_image\n",
    "\n",
    "from PIL import Image\n",
    "import matplotlib.pyplot as plt\n",
    "\n",
    "import pathlib\n",
    "from pathlib import Path\n",
    "\n",
    "\n",
    "# Define a custom tool as a Python function using the @tool decorator\n",
    "@tool\n",
    "def letter_counter(word: str, letter: str) -> int:\n",
    "    \"\"\"\n",
    "    Count occurrences of a specific letter in a word.\n",
    "\n",
    "    Args:\n",
    "        word (str): The input word to search in\n",
    "        letter (str): The specific letter to count\n",
    "\n",
    "    Returns:\n",
    "        int: The number of occurrences of the letter in the word\n",
    "    \"\"\"\n",
    "    if not isinstance(word, str) or not isinstance(letter, str):\n",
    "        return 0\n",
    "\n",
    "    if len(letter) != 1:\n",
    "        raise ValueError(\"The 'letter' parameter must be a single character\")\n",
    "\n",
    "    return word.lower().count(letter.lower())\n",
    "\n",
    "# [OPTIONAL STATEMENT] \n",
    "# Set the logging level to ERROR if the agent response is not readable with the DEBUG logs. \n",
    "# please switch back to DEBUG if you want to look at the detailed traces of the agent processing steps.\n",
    "\n",
    "# logging.getLogger(\"strands\").setLevel(logging.ERROR) # uncomment this statement to disable DEBUG logs and enable ERROR logs only.\n",
    "\n",
    "# Create an agent with tools from the strands-tools example tools package\n",
    "# as well as our custom letter_counter tool\n",
    "agent = Agent(tools=[calculator, current_time, generate_image, letter_counter])\n",
    "\n",
    "\n",
    "# Ask the agent a question that uses the available tools\n",
    "message = \"\"\"\n",
    "I have 4 requests:\n",
    "\n",
    "1. What is the time right now?\n",
    "2. Calculate 3111696 / 74088\n",
    "3. Tell me how many letter R's are in the word \"strawberry\" 🍓\n",
    "4. Generate an image of a futuristic city with flying cars\n",
    "\"\"\"\n",
    "\n",
    "tools_agent_response = agent(message)\n",
    "\n",
    "\n",
    "## display the generated image. if you notice errors with the image display, check the image path ##\n",
    "\n",
    "#Get image paths\n",
    "folder_path = \"output\"\n",
    "folder = Path(folder_path)\n",
    "image_extensions = {'.png', '.jpg', '.jpeg', '.gif', '.bmp', '.tiff', '.webp'}\n",
    "\n",
    "for image_path in folder.iterdir():\n",
    "    if image_path.is_file() and image_path.suffix.lower() in image_extensions:\n",
    "        # Load and display\n",
    "        print (image_path)\n",
    "        img = Image.open(image_path)\n",
    "        plt.imshow(img)\n",
    "        plt.axis('off')\n",
    "        plt.show()"
   ]
  },
  {
   "cell_type": "markdown",
   "id": "9b75cafe-dbbd-47b3-8515-6320869d6ff1",
   "metadata": {},
   "source": [
    "### **1.f Observability**\n",
    "\n",
    "In the Strands Agents SDK, observability refers to the ability to measure system behavior and performance. [Observability](https://strandsagents.com/latest/user-guide/observability-evaluation/observability/) is the combination of instrumentation, data collection, and analysis techniques that provide insights into an agent's behavior and performance.\n",
    "Building observable agents starts with monitoring the right telemetry. While we leverage the same fundamental building blocks as traditional software — [traces](https://strandsagents.com/latest/user-guide/observability-evaluation/traces/), [metrics](https://strandsagents.com/latest/user-guide/observability-evaluation/metrics/), and [logs](https://strandsagents.com/latest/user-guide/observability-evaluation/logs/) — their application to agents requires special consideration. We need to capture not only standard application telemetry but also AI-specific signals like model interactions, reasoning steps, and tool usage."
   ]
  },
  {
   "cell_type": "markdown",
   "id": "e3d18da5-c6da-4994-9a91-37c5936697b4",
   "metadata": {},
   "source": [
    "### [Metrics](https://strandsagents.com/latest/user-guide/observability-evaluation/metrics/)"
   ]
  },
  {
   "cell_type": "markdown",
   "id": "28773158-cd30-4916-8957-741e8819e0b9",
   "metadata": {},
   "source": [
    "**Metrics for the agent invocation using non-default model (Metrics for Step 1.c)**"
   ]
  },
  {
   "cell_type": "code",
   "execution_count": null,
   "id": "3ef009cd-bdf8-4845-9ff4-cd3f927deba4",
   "metadata": {
    "execution": {
     "iopub.execute_input": "2025-07-18T14:50:02.686574Z",
     "iopub.status.busy": "2025-07-18T14:50:02.686070Z",
     "iopub.status.idle": "2025-07-18T14:50:02.690476Z",
     "shell.execute_reply": "2025-07-18T14:50:02.689896Z",
     "shell.execute_reply.started": "2025-07-18T14:50:02.686550Z"
    }
   },
   "outputs": [],
   "source": [
    "import pathlib\n",
    "from pathlib import Path"
   ]
  },
  {
   "cell_type": "code",
   "execution_count": null,
   "id": "ef85b784-79a0-44a7-85d8-f7c0ea93cb3c",
   "metadata": {},
   "outputs": [],
   "source": [
    "agent_response_with_nova_premier.metrics.get_summary()"
   ]
  },
  {
   "cell_type": "markdown",
   "id": "13ed7356-856e-4beb-97bb-da8c0c9c64db",
   "metadata": {
    "execution": {
     "iopub.execute_input": "2025-07-05T05:13:40.067401Z",
     "iopub.status.busy": "2025-07-05T05:13:40.067097Z",
     "iopub.status.idle": "2025-07-05T05:13:40.070498Z",
     "shell.execute_reply": "2025-07-05T05:13:40.069685Z",
     "shell.execute_reply.started": "2025-07-05T05:13:40.067380Z"
    }
   },
   "source": [
    "#### **Metrics for the agent invocation using strands tools (Metrics for Step 1.e)**"
   ]
  },
  {
   "cell_type": "code",
   "execution_count": null,
   "id": "0fdb914c-c431-47b9-916e-1071bb992775",
   "metadata": {
    "execution": {
     "iopub.execute_input": "2025-07-18T14:50:46.860887Z",
     "iopub.status.busy": "2025-07-18T14:50:46.860557Z",
     "iopub.status.idle": "2025-07-18T14:50:47.187930Z",
     "shell.execute_reply": "2025-07-18T14:50:47.187204Z",
     "shell.execute_reply.started": "2025-07-18T14:50:46.860863Z"
    }
   },
   "outputs": [],
   "source": [
    "folder_path = \"./output\"\n",
    "folder = Path(folder_path)\n",
    "image_extensions = {'.png', '.jpg', '.jpeg', '.gif', '.bmp', '.tiff', '.webp'}\n",
    "\n",
    "for image_path in folder.iterdir():\n",
    "    if image_path.is_file() and image_path.suffix.lower() in image_extensions:\n",
    "        # Load and display\n",
    "        print (image_path)\n",
    "        img = Image.open(image_path)\n",
    "        plt.imshow(img)\n",
    "        plt.axis('off')\n",
    "        plt.show()"
   ]
  },
  {
   "cell_type": "code",
   "execution_count": null,
   "id": "28574a67-4843-4814-a47a-92d6e9a3a550",
   "metadata": {
    "scrolled": true
   },
   "outputs": [],
   "source": [
    "tools_agent_response.metrics.get_summary()"
   ]
  },
  {
   "cell_type": "markdown",
   "id": "46fbcbb5",
   "metadata": {},
   "source": [
    "## Next Step\n",
    "\n",
    "Congrats. You have completed Level 1 of the lab. Now open `02-Strands-Agents-Foundations-Level-2.ipynb` and follow the instructions to continue."
   ]
  }
 ],
 "metadata": {
  "kernelspec": {
   "display_name": "Python 3 (ipykernel)",
   "language": "python",
   "name": "python3"
  },
  "language_info": {
   "codemirror_mode": {
    "name": "ipython",
    "version": 3
   },
   "file_extension": ".py",
   "mimetype": "text/x-python",
   "name": "python",
   "nbconvert_exporter": "python",
   "pygments_lexer": "ipython3",
   "version": "3.12.9"
  }
 },
 "nbformat": 4,
 "nbformat_minor": 5
}
