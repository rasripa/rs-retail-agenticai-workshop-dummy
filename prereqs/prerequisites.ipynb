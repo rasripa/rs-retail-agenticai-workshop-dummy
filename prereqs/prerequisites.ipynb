{
 "cells": [
  {
   "cell_type": "markdown",
   "id": "b23d4f84-96f7-44b1-8d14-3c23d7cc765f",
   "metadata": {},
   "source": [
    "# Prerequisites\n",
    "Creating resources needed for all labs."
   ]
  },
  {
   "cell_type": "markdown",
   "id": "587faa8c-feb6-470f-b3fe-ca4acbb622cd",
   "metadata": {},
   "source": [
    "## Getting started\n",
    "This notebook creates the necessary AWS resources for all labs. That includes - \n",
    "1. A S3 bucket\n",
    "1. An opensearch serverless datastore\n",
    "1. A Bedrock Knowledge Base that uses the above opensearch datastore\n",
    "1. A DynamoDB table for product reviews\n",
    "1. A DynamoDB table for product inventory\n",
    "\n",
    "> Please run this notebook before starting lab 2."
   ]
  },
  {
   "cell_type": "markdown",
   "id": "07c58e46",
   "metadata": {},
   "source": [
    "## Bedrock Model Access\n",
    "\n",
    "Before we can start building with Bedrock, we will need to grant model access to our account.\n",
    "\n",
    "1. Head to the Amazon Bedrock model access page \n",
    "\n",
    "1. Select the Enable specific models button.\n",
    "\n",
    "1. Select the checkboxes listed below to activate the models. If running from your own account, there is no cost to activate the models - you only pay for what you use during the labs. See here for more information on supported models\n",
    "\n",
    "    - Amazon (select Amazon to automatically select all Amazon models).\n",
    "    - Anthropic: Claude 4 Sonnet, Claude 3.7 Sonnet, Claude 3.5 Sonnet v2, Claude 3.5 Haiku\n",
    "Click Request model access to activate the models in your account.\n",
    "\n",
    "![Model Access](bedrock2.png)\n",
    "\n",
    "1. Monitor the model access status. It may take a few minutes for the models to move from In Progress to Access granted status. You can use the Refresh button to periodically check for updates.\n",
    "\n",
    "1. Verify that the model access status is Access granted for the previously selected models."
   ]
  },
  {
   "cell_type": "markdown",
   "id": "04ee4e80",
   "metadata": {},
   "source": [
    "## Creating AWS Resources needed for the labs"
   ]
  },
  {
   "cell_type": "code",
   "execution_count": null,
   "id": "0964ea6f-46e9-4828-9412-5a94cd9069bb",
   "metadata": {
    "execution": {
     "iopub.execute_input": "2025-07-18T16:14:49.201097Z",
     "iopub.status.busy": "2025-07-18T16:14:49.200759Z",
     "iopub.status.idle": "2025-07-18T16:14:49.205030Z",
     "shell.execute_reply": "2025-07-18T16:14:49.204221Z",
     "shell.execute_reply.started": "2025-07-18T16:14:49.201071Z"
    }
   },
   "outputs": [],
   "source": [
    "# Import the library\n",
    "import boto3\n"
   ]
  },
  {
   "cell_type": "code",
   "execution_count": null,
   "id": "c7bd2803-b463-406c-9d51-0e70e4ae5418",
   "metadata": {
    "execution": {
     "iopub.execute_input": "2025-07-18T16:09:45.960173Z",
     "iopub.status.busy": "2025-07-18T16:09:45.959488Z",
     "iopub.status.idle": "2025-07-18T16:13:46.796467Z",
     "shell.execute_reply": "2025-07-18T16:13:46.795503Z",
     "shell.execute_reply.started": "2025-07-18T16:09:45.960142Z"
    },
    "scrolled": true
   },
   "outputs": [],
   "source": [
    "# Create the product search knowledge base, S3 bucket and DynamoDB for product reviews and inventory\n",
    "!sh deploy_prereqs.sh"
   ]
  },
  {
   "cell_type": "markdown",
   "id": "d8a2c927",
   "metadata": {},
   "source": [
    "> ***NOTE*** Please note the Knowledge Base Id and replace below."
   ]
  },
  {
   "cell_type": "code",
   "execution_count": null,
   "id": "cc497cc0-f3f4-441d-a80f-23ddbbec69f9",
   "metadata": {},
   "outputs": [],
   "source": [
    "# Please note the knowledge base ID value. It would be provided with the variable knowledgeBaseId and replace it with the value below\n",
    "product_search_kb_id = '<Replace the value of knowledge base ID value>'"
   ]
  },
  {
   "cell_type": "code",
   "execution_count": null,
   "id": "bba39fa4-9bde-45fd-8942-4ebe3b3e230b",
   "metadata": {
    "execution": {
     "iopub.execute_input": "2025-07-18T15:21:23.763312Z",
     "iopub.status.busy": "2025-07-18T15:21:23.763018Z",
     "iopub.status.idle": "2025-07-18T15:21:23.768480Z",
     "shell.execute_reply": "2025-07-18T15:21:23.767642Z",
     "shell.execute_reply.started": "2025-07-18T15:21:23.763290Z"
    }
   },
   "outputs": [],
   "source": [
    "%store product_search_kb_id"
   ]
  },
  {
   "cell_type": "markdown",
   "id": "d3f36ba8",
   "metadata": {},
   "source": [
    "## Next step\n",
    "You have completed the prerequisites. Now open `lab 0\\fundamentals` to continue."
   ]
  }
 ],
 "metadata": {
  "kernelspec": {
   "display_name": "Python 3 (ipykernel)",
   "language": "python",
   "name": "python3"
  },
  "language_info": {
   "codemirror_mode": {
    "name": "ipython",
    "version": 3
   },
   "file_extension": ".py",
   "mimetype": "text/x-python",
   "name": "python",
   "nbconvert_exporter": "python",
   "pygments_lexer": "ipython3",
   "version": "3.12.9"
  }
 },
 "nbformat": 4,
 "nbformat_minor": 5
}
